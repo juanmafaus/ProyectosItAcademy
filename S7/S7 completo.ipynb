{
 "cells": [
  {
   "cell_type": "markdown",
   "metadata": {},
   "source": [
    "### Exercici 1\n",
    "Calculadora de l'índex de massa corporal\n",
    "\n",
    "Escriu una funció que calculi l'IMC ingressat per l'usuari/ària, és a dir, qui ho executi haurà d'ingressar aquestes dades. Pots obtenir més informació del seu càlcul en:\n",
    "\n",
    "-> Índice de masa corporal IMC que es y como se calcula.\n",
    "\n",
    "La funció ha de classificar el resultat en les seves respectives categories"
   ]
  },
  {
   "cell_type": "code",
   "execution_count": 3,
   "metadata": {},
   "outputs": [
    {
     "name": "stdout",
     "output_type": "stream",
     "text": [
      "tu indice corporal es de ¨24.691358024691358, estas dentro del peso recomendado\n"
     ]
    }
   ],
   "source": [
    "def imc_calculator():\n",
    "    weight = float(input(\"introduce tu peso:\"))     \n",
    "    height = float(input(\"introduce tu altura: (recuerda que formato correcto es con un punto luego del metro, ej: 1.78\"))\n",
    "    imc = weight / (height ** 2)\n",
    "    if imc < 18.5:\n",
    "        print(f\"tu indice corporal es de ¨{imc}, estas por debajo de tu peso recomendado\")\n",
    "    elif 18.5 <= imc <= 24.9:\n",
    "        print(f\"tu indice corporal es de ¨{imc}, estas dentro del peso recomendado\")\n",
    "    elif 25 <= imc <= 29.9:\n",
    "        print(f\"tu indice corporal es de ¨{imc}, estas dentro del rango de sobrepeso\")\n",
    "    elif imc > 30:\n",
    "        print(f\"tu indice corporal es de ¨{imc}, estas dentro del rango de obesidad\")\n",
    "\n",
    "\n",
    "imc_calculator()\n"
   ]
  },
  {
   "cell_type": "markdown",
   "metadata": {},
   "source": [
    "### Exercici 2\n",
    "Convertidor de temperatures.\n",
    "\n",
    "Existeixen diverses unitats de temperatura utilitzades en diferents contextos i regions. Les més comunes són Celsius (°C), Fahrenheit (°F) i Kelvin (K). També existeixen altres unitats com Rankine (°Ra) i Réaumur (°Re). Selecciona almenys 2 i construeix el convertidor."
   ]
  },
  {
   "cell_type": "code",
   "execution_count": 1,
   "metadata": {},
   "outputs": [
    {
     "name": "stdout",
     "output_type": "stream",
     "text": [
      "el valor introducido convertido a rankine es: 558.27\n"
     ]
    }
   ],
   "source": [
    "def farenheit_to_celsius(temperature: float):\n",
    "    return (temperature - 32) * 5 / 9\n",
    "\n",
    "\n",
    "def farenheit_to_kelvin(temperature: float):\n",
    "    return (temperature + 459.67) * 5 / 9\n",
    "\n",
    "\n",
    "def farenheit_to_rankine(temperature: float):\n",
    "    return temperature + 459.67\n",
    "\n",
    "\n",
    "def kelvin_to_celsius(temperature: float):\n",
    "    return temperature - 273.15\n",
    "\n",
    "\n",
    "def kelvin_to_farenheit(temperature: float):\n",
    "    return (temperature * 9 / 5) - 459.67\n",
    "\n",
    "\n",
    "def kelvin_to_rankine(temperature: float):\n",
    "    return temperature * 9 / 5\n",
    "\n",
    "\n",
    "def celsius_to_farenheit(temperature: float):\n",
    "    return (temperature * 9 / 5) + 32\n",
    "\n",
    "\n",
    "def celsius_to_kelvin(temperature: float):\n",
    "    return temperature + 273.15\n",
    "\n",
    "\n",
    "def celsius_to_rankine(temperature: float):\n",
    "    return (temperature + 273.15) * 9 / 5\n",
    "\n",
    "\n",
    "def rankine_to_celsius(temperature: float):\n",
    "    return (temperature - 491.67) * 5 / 9\n",
    "\n",
    "\n",
    "def rankine_to_kelvin(temperature: float):\n",
    "    return temperature * 5 / 9\n",
    "\n",
    "\n",
    "def rankine_to_farhenheit(temperature: float):\n",
    "    return temperature - 459.67\n",
    "\n",
    "\n",
    "def read_unit_options():\n",
    "    return int(input(\"Indica en que unidad de medida está el valor introducido: \\n\"\n",
    "                     \"1 - Celcius \\n\"\n",
    "                     \"2 - Farenheit \\n\"\n",
    "                     \"3 - Kelvin \\n\"\n",
    "                     \"4 - Rankine:\\n\"\n",
    "                     \"> \"))\n",
    "\n",
    "\n",
    "def input_unit_of_temperature():\n",
    "    unit = read_unit_options()\n",
    "    while unit not in [1, 2, 3, 4]:\n",
    "        print(\"El parametro introducido no es correcto, intentalo de nuevo.\")\n",
    "        unit = read_unit_options()\n",
    "    return unit\n",
    "\n",
    "\n",
    "def temp_conversor():\n",
    "    exit_key = str().lower()\n",
    "    while exit_key != \"n\":\n",
    "        temperature = float(input(\"introduce el valor de una temperatura que quieras convertir: \\n\"\n",
    "                                  \">\"))\n",
    "        unit_from = input_unit_of_temperature()\n",
    "        unit_to = input_unit_of_temperature()\n",
    "\n",
    "        if unit_from == unit_to:\n",
    "            print(f\"el valor es: {temperature}\")\n",
    "        elif unit_from == 1:\n",
    "            if unit_to == 2:\n",
    "                print(f\"el valor introducido convertido a farenheit es: {celsius_to_farenheit(temperature)}\")\n",
    "                exit_key = input(\n",
    "                    'toca cualquier tecla para continuar convirtiendo valores o \"N\" para cerrar el programa')\n",
    "            elif unit_to == 3:\n",
    "                print(f\"el valor introducido convertido a kelvin es: {celsius_to_kelvin(temperature)}\")\n",
    "                exit_key = input(\n",
    "                    'toca cualquier tecla para continuar convirtiendo valores o \"N\" para cerrar el programa')\n",
    "            elif unit_to == 4:\n",
    "                print(f\"el valor introducido convertido a rankine es: {celsius_to_rankine(temperature)}\")\n",
    "                exit_key = input(\n",
    "                    'toca cualquier tecla para continuar convirtiendo valores o \"N\" para cerrar el programa')\n",
    "        elif unit_from == 2:\n",
    "            if unit_to == 1:\n",
    "                print(f\"el valor introducido convertido a celsius es: {farenheit_to_celsius(temperature)}\")\n",
    "                exit_key = input(\n",
    "                    'toca cualquier tecla para continuar convirtiendo valores o \"N\" para cerrar el programa')\n",
    "            elif unit_to == 3:\n",
    "                print(f\"el valor introducido convertido a kelvin es: {farenheit_to_kelvin(temperature)}\")\n",
    "                exit_key = input(\n",
    "                    'toca cualquier tecla para continuar convirtiendo valores o \"N\" para cerrar el programa')\n",
    "            elif unit_to == 4:\n",
    "                print(f\"el valor introducido convertido a rankine es: {farenheit_to_rankine(temperature)}\")\n",
    "                exit_key = input(\n",
    "                    'toca cualquier tecla para continuar convirtiendo valores o \"N\" para cerrar el programa')\n",
    "        elif unit_from == 3:\n",
    "            if unit_to == 1:\n",
    "                print(f\"el valor introducido convertido a celsius es: {kelvin_to_celsius(temperature)}\")\n",
    "                exit_key = input(\n",
    "                    'toca cualquier tecla para continuar convirtiendo valores o \"N\" para cerrar el programa')\n",
    "            elif unit_to == 2:\n",
    "                print(f\"el valor introducido convertido a farenheit es: {kelvin_to_farenheit(temperature)}\")\n",
    "                exit_key = input(\n",
    "                    'toca cualquier tecla para continuar convirtiendo valores o \"N\" para cerrar el programa')\n",
    "            elif unit_to == 4:\n",
    "                print(f\"el valor introducido convertido a rankine es: {kelvin_to_rankine(temperature)}\")\n",
    "                exit_key = input(\n",
    "                    'toca cualquier tecla para continuar convirtiendo valores o \"N\" para cerrar el programa')\n",
    "        elif unit_from == 4:\n",
    "            if unit_to == 1:\n",
    "                print(f\"el valor introducido convertido a celsius es: {rankine_to_celsius(temperature)}\")\n",
    "                exit_key = input(\n",
    "                    'toca cualquier tecla para continuar convirtiendo valores o \"N\" para cerrar el programa')\n",
    "            elif unit_to == 2:\n",
    "                print(f\"el valor introducido convertido a farenheit es: {rankine_to_farhenheit(temperature)}\")\n",
    "                exit_key = input(\n",
    "                    'toca cualquier tecla para continuar convirtiendo valores o \"N\" para cerrar el programa')\n",
    "            elif unit_to == 3:\n",
    "                print(f\"el valor introducido convertido a farenheit es: {rankine_to_kelvin(temperature)}\")\n",
    "                exit_key = input(\n",
    "                    'toca cualquier tecla para continuar convirtiendo valores o \"N\" para cerrar el programa')\n",
    "        else:\n",
    "            print(\"los parametros introducidos no son correctos, intentalo de nuevo\")\n",
    "\n",
    "\n",
    "temp_conversor()\n"
   ]
  },
  {
   "cell_type": "markdown",
   "metadata": {},
   "source": [
    "### Exercici 3\n",
    "Comptador de paraules d'un text.\n",
    "\n",
    "Escriu una funció que donat un text, mostri les vegades que apareix cada paraula."
   ]
  },
  {
   "cell_type": "code",
   "execution_count": 13,
   "metadata": {},
   "outputs": [
    {
     "name": "stdout",
     "output_type": "stream",
     "text": [
      "la palabra 'perro' tiene una frecuencia de 3\n",
      "la palabra 'loco' tiene una frecuencia de 1\n",
      "la palabra 'lindo' tiene una frecuencia de 1\n",
      "la palabra 'ese' tiene una frecuencia de 1\n",
      "la palabra 'se' tiene una frecuencia de 1\n",
      "la palabra 'llama' tiene una frecuencia de 1\n",
      "la palabra 'cachimbo' tiene una frecuencia de 1\n"
     ]
    }
   ],
   "source": [
    "def text_cleaner(text):\n",
    "    characters_to_remove = ['¿', '!', '?', '@', '#', '&', '.', ',', ';', ':', '-', '_', '(', ')', '[', ']', '{', '}',\n",
    "                            '*', '^', '%', '$', '<', '>', '/', '\\\\', '|', '\"', \"'\", \"~\", \"€\", \"ª\", \"Ç\", \"¬\", \"`\", \"+\",\n",
    "                            \"º\", \"¡\", \"·\"]\n",
    "    for characters in characters_to_remove:\n",
    "        text = text.replace(characters, ' ')\n",
    "    text = ' '.join(text.split())\n",
    "\n",
    "    return text\n",
    "\n",
    "\n",
    "def main_func():\n",
    "    text = str(input(\"ingrese un texto:\\n\"\n",
    "                     \">\"))\n",
    "    text = text_cleaner(text)\n",
    "    text = text.lower()\n",
    "    words = text.split(\" \")\n",
    "    words_frequency = {}\n",
    "    for word in words:\n",
    "        if word in words_frequency:\n",
    "            words_frequency[word] += 1\n",
    "        else:\n",
    "            words_frequency[word] = 1\n",
    "    for word in words_frequency:\n",
    "        frequency = words_frequency[word]\n",
    "        print(f\"la palabra '{word}' tiene una frecuencia de {frequency}\")\n",
    "\n",
    "\n",
    "main_func()\n"
   ]
  },
  {
   "cell_type": "markdown",
   "metadata": {},
   "source": [
    "### Exercici 4\n",
    "Diccionari invers.\n",
    "\n",
    "Resulta que el client té una enquesta molt antiga que s'emmagatzema en un diccionari i els resultats els necessita al revés, és a dir, intercanviats les claus i els valors. Els valors i claus en el diccionari original són únics; si aquest no és el cas, la funció hauria d'imprimir un missatge d'advertiment."
   ]
  },
  {
   "cell_type": "code",
   "execution_count": 14,
   "metadata": {},
   "outputs": [
    {
     "name": "stdout",
     "output_type": "stream",
     "text": [
      "{1: 'a', 2: 'b', 3: 'c'}\n",
      "Error: multiple keys for one value\n"
     ]
    }
   ],
   "source": [
    "def dict_inverter(dictionary):\n",
    "    inverted_dict = {}\n",
    "    for k, v in dictionary.items():\n",
    "        if v in inverted_dict:\n",
    "            print(\"Error: multiple keys for one value\")\n",
    "            return None\n",
    "        inverted_dict[v] = k\n",
    "    return inverted_dict\n",
    "\n",
    "\n",
    "my_dict = {'a': 1, 'b': 2, 'c': 3}\n",
    "invert_dict = dict_inverter(my_dict)\n",
    "if invert_dict is not None:\n",
    "    print(invert_dict)\n",
    "my_bad_dict = {'x': 'apple', 'y': 'banana', 'z': 'banana'}\n",
    "inv2_dict = dict_inverter(my_bad_dict)\n"
   ]
  },
  {
   "cell_type": "markdown",
   "metadata": {},
   "source": [
    "# NIVEL 2 \n",
    "### Exercici 1\n",
    "Diccionari invers amb duplicats\n",
    "\n",
    "Continuant amb l'exercici 4 del nivell 1: al client es va oblidar de comentar un detall i resulta que els valors en el diccionari original poden duplicar-se i més, per la qual cosa les claus intercanviades poden tenir duplicats. En aquest cas, en l'exercici anterior imprimies un missatge d'advertiment, ara, els valors del diccionari resultant hauran d'emmagatzemar-se com una llista. Tingues en compte que si és un valor únic no ha de ser una llista."
   ]
  },
  {
   "cell_type": "code",
   "execution_count": 2,
   "metadata": {},
   "outputs": [
    {
     "name": "stdout",
     "output_type": "stream",
     "text": [
      "{1: 'a', 2: 'b', 3: 'c'}\n",
      "{'apple': 'x', 'banana': ['y', 'z']}\n"
     ]
    }
   ],
   "source": [
    "def dict_inverter_plus(dictionary):\n",
    "    inverted_dict = {}\n",
    "    for k, v in dictionary.items():\n",
    "        if v in inverted_dict:\n",
    "            if isinstance(inverted_dict[v], list):\n",
    "                inverted_dict[v].append(k)\n",
    "            else:\n",
    "                inverted_dict[v] = [inverted_dict[v], k]\n",
    "        else:\n",
    "            inverted_dict[v] = k\n",
    "    return inverted_dict\n",
    "\n",
    "\n",
    "my_dict = {'a': 1, 'b': 2, 'c': 3}\n",
    "invert_dict = dict_inverter_plus(my_dict)\n",
    "print(invert_dict)\n",
    "my_bad_dict = {'x': 'apple', 'y': 'banana', 'z': 'banana'}\n",
    "inv2_dict = dict_inverter_plus(my_bad_dict)\n",
    "\n",
    "print(inv2_dict)\n"
   ]
  },
  {
   "cell_type": "markdown",
   "metadata": {},
   "source": [
    "### Exercici 2\n",
    "Conversió de tipus de dades\n",
    "\n",
    "El client rep una llista de dades i necessita generar dues llistes, la primera on estaran tots els elements que es van poder convertir en flotants i l'altra on estan els elements que no es van poder convertir. Exemple de la llista que rep el client: [ '1.3', 'one' , '1e10' , 'seven', '3-1/2', ('2',1,1.4,'not-a-number'), [1,2,'3','3.4']]"
   ]
  },
  {
   "cell_type": "code",
   "execution_count": 9,
   "metadata": {},
   "outputs": [
    {
     "name": "stdout",
     "output_type": "stream",
     "text": [
      " los datos convertidos a float son: [1.3, 10000000000.0, 2.0, 1.0, 1.4, 1.0, 2.0, 3.0, 3.4],y los que no se pueden convertir a float son: ['one', 'seven', '3-1/2', 'not-a-number']\n"
     ]
    }
   ],
   "source": [
    "my_data = ['1.3', 'one', '1e10', 'seven', '3-1/2', ('2', 1, 1.4, 'not-a-number'), [1, 2, '3', '3.4']]\n",
    "\n",
    "\n",
    "def list_tuple_unifier(inserted_data):\n",
    "    empty_list = []\n",
    "    for x in inserted_data:\n",
    "        if isinstance(x, (list, tuple)):\n",
    "            empty_list.extend(x)\n",
    "        else:\n",
    "            empty_list.append(x)\n",
    "    return empty_list\n",
    "\n",
    "\n",
    "correct_data = list_tuple_unifier(my_data)\n",
    "\n",
    "\n",
    "def float_convert_return(inserted_data):\n",
    "    float_list = []\n",
    "    non_float_list = []\n",
    "\n",
    "    for x in inserted_data:\n",
    "        try:\n",
    "            float_item = float(x)\n",
    "            float_list.append(float_item)\n",
    "        except ValueError:\n",
    "            non_float_list.append(x)\n",
    "    return (\n",
    "        f\" los datos convertidos a float son: {float_list},\"\n",
    "        f\"y los que no se pueden convertir a float son: {non_float_list}\")\n",
    "\n",
    "\n",
    "print(float_convert_return(correct_data))\n"
   ]
  },
  {
   "cell_type": "markdown",
   "metadata": {},
   "source": [
    "# Nivell 3\n",
    "### Exercici 1\n",
    "Comptador i endreçador de paraules d'un text.\n",
    "\n",
    "El client va quedar content amb el comptador de paraules, però ara vol llegir arxius TXT i que calculi la freqüència de cada paraula ordenades dins de les entrades habituals del diccionari segons la lletra amb la qual comencen, és a dir, les claus han d'anar de la A a la Z i dins de la A hem d'anar de la A la Z. Per exemple, per a l'arxiu \"tu_me_quieres_blanca.txt\" la sortida esperada seria:"
   ]
  },
  {
   "cell_type": "code",
   "execution_count": 12,
   "metadata": {},
   "outputs": [
    {
     "name": "stdout",
     "output_type": "stream",
     "text": [
      "{'a': {'a': 3, 'agua': 1, 'al': 2, 'alba': 4, 'alcobas': 1, 'alimenta': 1, 'alma': 1, 'amarga': 1, 'azucena': 1}, 'b': {'baco': 1, 'banquete': 1, 'bebe': 1, 'blanca': 3, 'boca': 1, 'bosques': 1, 'buen': 1}, 'c': {'cabañas': 1, 'carnes': 2, 'casta': 3, 'cerrada': 1, 'con': 4, 'conservas': 1, 'copas': 1, 'corola': 1, 'corriste': 1, 'cuando': 2, 'cubierto': 1, 'cuerpo': 1, 'cuáles': 1}, 'd': {'de': 8, 'dejaste': 1, 'del': 1, 'diga': 1, 'dios': 2, 'duerme': 1}, 'e': {'el': 4, 'ellas': 1, 'en': 4, 'engaño': 1, 'enredada': 1, 'entonces': 1, 'escarcha': 1, 'espumas': 1, 'esqueleto': 1, 'estrago': 1}, 'f': {'festejando': 1, 'filtrado': 1, 'frutos': 1}, 'h': {'habla': 1, 'hacia': 1, 'haya': 1, 'hayas': 1, 'hermana': 1, 'hombre': 1, 'hubiste': 1, 'huye': 1}, 'i': {'intacto': 1}, 'j': {'jardines': 1}, 'l': {'la': 3, 'labios': 1, 'las': 7, 'lo': 2, 'los': 4, 'luna': 1, 'lévate': 1, 'límpiate': 1}, 'm': {'mano': 1, 'manos': 1, 'margarita': 1, 'me': 10, 'mi': 1, 'mieles': 1, 'milagros': 1, 'mojada': 1, 'montaña': 1, 'morados': 1}, 'n': {'negros': 1, 'ni': 2, 'no': 1, 'nácar': 1, 'nívea': 2}, 'p': {'perdone': 2, 'perfume': 1, 'por': 2, 'pretendes': 3, 'preténdeme': 3, 'puesto': 1, 'pájaros': 1, 'pámpanos': 1}, 'q': {'que': 6, 'quedó': 1, 'quieres': 6}, 'r': {'rayo': 1, 'raíz': 1, 'renueva': 1, 'rocas': 1, 'rojo': 1}, 's': {'salitre': 1, 'se': 2, 'sea': 1, 'sean': 1, 'sobre': 2, 'sé': 1}, 't': {'te': 3, 'tejidos': 1, 'tenue': 1, 'tierra': 1, 'toca': 1, 'todas': 2, 'todavía': 1, 'tornadas': 1, 'tú': 8}, 'u': {'un': 1, 'una': 1}, 'v': {'vestido': 1, 'vete': 1, 'vive': 1}, 'y': {'y': 5}}\n"
     ]
    }
   ],
   "source": [
    "import re\n",
    "\n",
    "from collections import defaultdict\n",
    "\n",
    "\n",
    "def text_opener():\n",
    "    text_name = input(\"Introduzca el nombre del archivo .txt: \\n\"\n",
    "                      \">\")\n",
    "    with open(text_name, 'r', encoding='utf-8') as file:\n",
    "        text = file.read()\n",
    "    return text\n",
    "\n",
    "\n",
    "def char_cleaner():\n",
    "    content = text_opener()\n",
    "    clean_content = re.sub(r'[^\\w\\s]', '', content)\n",
    "    clean_content = clean_content.lower()\n",
    "    clean_content = ' '.join(clean_content.split())\n",
    "    words = clean_content.split(' ')\n",
    "    empty_dict = {}\n",
    "    for word in words:\n",
    "        if word in empty_dict:\n",
    "            empty_dict[word] += 1\n",
    "        else:\n",
    "            empty_dict[word] = 1\n",
    "\n",
    "    grouped_words = defaultdict(dict)\n",
    "    for word, frequency in sorted(empty_dict.items()):\n",
    "        initial_letter = word[0]\n",
    "        grouped_words[initial_letter][word] = frequency\n",
    "    grouped_words = dict(grouped_words)\n",
    "    return grouped_words\n",
    "\n",
    "\n",
    "def results_printer():\n",
    "    grouped_words = char_cleaner()\n",
    "    print(grouped_words)\n",
    "\n",
    "\n",
    "results_printer()\n"
   ]
  }
 ],
 "metadata": {
  "kernelspec": {
   "display_name": "Python 3",
   "language": "python",
   "name": "python3"
  },
  "language_info": {
   "codemirror_mode": {
    "name": "ipython",
    "version": 3
   },
   "file_extension": ".py",
   "mimetype": "text/x-python",
   "name": "python",
   "nbconvert_exporter": "python",
   "pygments_lexer": "ipython3",
   "version": "3.9.13"
  }
 },
 "nbformat": 4,
 "nbformat_minor": 2
}
